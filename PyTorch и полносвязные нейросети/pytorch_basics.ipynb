{
 "cells": [
  {
   "cell_type": "code",
   "execution_count": 3,
   "source": [
    "#!pip install torch\r\n",
    "import torch"
   ],
   "outputs": [],
   "metadata": {}
  },
  {
   "cell_type": "code",
   "execution_count": 4,
   "source": [
    "torch.HalfTensor      # 16 бит, floating point\r\n",
    "torch.FloatTensor     # 32 бита, floating point\r\n",
    "torch.DoubleTensor    # 64 бита, floating point\r\n",
    "\r\n",
    "torch.ShortTensor     # 16 бит, integer, signed\r\n",
    "torch.IntTensor       # 32 бита, integer, signed\r\n",
    "torch.LongTensor      # 64 бита, integer, signed\r\n",
    "\r\n",
    "torch.CharTensor      # 8 бит, integer, signed\r\n",
    "torch.ByteTensor      # 8 бит, integer, unsigned"
   ],
   "outputs": [
    {
     "output_type": "execute_result",
     "data": {
      "text/plain": [
       "torch.ByteTensor"
      ]
     },
     "metadata": {},
     "execution_count": 4
    }
   ],
   "metadata": {}
  },
  {
   "cell_type": "code",
   "execution_count": 5,
   "source": [
    "a = torch.FloatTensor([1, 2])\r\n",
    "a"
   ],
   "outputs": [
    {
     "output_type": "execute_result",
     "data": {
      "text/plain": [
       "tensor([1., 2.])"
      ]
     },
     "metadata": {},
     "execution_count": 5
    }
   ],
   "metadata": {}
  },
  {
   "cell_type": "code",
   "execution_count": 6,
   "source": [
    "a.shape"
   ],
   "outputs": [
    {
     "output_type": "execute_result",
     "data": {
      "text/plain": [
       "torch.Size([2])"
      ]
     },
     "metadata": {},
     "execution_count": 6
    }
   ],
   "metadata": {}
  },
  {
   "cell_type": "code",
   "execution_count": 7,
   "source": [
    "b = torch.FloatTensor([[1,2,3], [4,5,6]])\r\n",
    "b"
   ],
   "outputs": [
    {
     "output_type": "execute_result",
     "data": {
      "text/plain": [
       "tensor([[1., 2., 3.],\n",
       "        [4., 5., 6.]])"
      ]
     },
     "metadata": {},
     "execution_count": 7
    }
   ],
   "metadata": {}
  },
  {
   "cell_type": "code",
   "execution_count": 8,
   "source": [
    "b.shape"
   ],
   "outputs": [
    {
     "output_type": "execute_result",
     "data": {
      "text/plain": [
       "torch.Size([2, 3])"
      ]
     },
     "metadata": {},
     "execution_count": 8
    }
   ],
   "metadata": {}
  },
  {
   "cell_type": "code",
   "execution_count": 9,
   "source": [
    "x = torch.FloatTensor(2,3,4)\r\n",
    "x"
   ],
   "outputs": [
    {
     "output_type": "execute_result",
     "data": {
      "text/plain": [
       "tensor([[[9.1837e-39, 4.6837e-39, 9.9184e-39, 9.0000e-39],\n",
       "         [1.0561e-38, 1.0653e-38, 4.1327e-39, 8.9082e-39],\n",
       "         [9.8265e-39, 9.4592e-39, 1.0561e-38, 1.0653e-38]],\n",
       "\n",
       "        [[1.0469e-38, 9.5510e-39, 1.0745e-38, 9.6429e-39],\n",
       "         [1.0561e-38, 9.1837e-39, 1.0653e-38, 8.4490e-39],\n",
       "         [1.0745e-38, 9.6429e-39, 1.0561e-38, 9.0918e-39]]])"
      ]
     },
     "metadata": {},
     "execution_count": 9
    }
   ],
   "metadata": {}
  },
  {
   "cell_type": "code",
   "execution_count": 10,
   "source": [
    "x = torch.FloatTensor(100)\r\n",
    "x"
   ],
   "outputs": [
    {
     "output_type": "execute_result",
     "data": {
      "text/plain": [
       "tensor([0.0000e+00, 0.0000e+00, 0.0000e+00, 0.0000e+00, 0.0000e+00, 2.3079e+20,\n",
       "        2.6302e+20, 6.1943e-04, 7.2056e+22, 2.1720e+29, 1.8057e+28, 5.1412e+31,\n",
       "        7.5338e+28, 6.1687e+16, 2.5353e-09, 5.4071e+22, 2.6318e-12, 2.5958e-06,\n",
       "        5.4071e+22, 2.6318e-12, 1.6615e-04, 5.3191e+22, 2.6318e-12, 6.3382e-10,\n",
       "        5.2002e+22, 8.3407e+17, 2.0190e-19, 1.3563e-19, 1.3563e-19, 6.3371e-10,\n",
       "        5.2304e+22, 2.6176e-12, 6.3371e-10, 5.2893e+22, 2.6176e-12, 2.5350e-09,\n",
       "        5.4070e+22, 2.6318e-12, 1.6615e-04, 5.2601e+22, 8.3407e+17, 2.0190e-19,\n",
       "        1.3563e-19, 1.3563e-19, 4.1538e-05, 5.3484e+22, 2.6318e-12, 1.6226e-07,\n",
       "        5.2602e+22, 2.6318e-12, 6.3371e-10, 5.2304e+22, 2.6176e-12, 6.3371e-10,\n",
       "        5.2893e+22, 8.2956e+17, 1.7035e+28, 1.3589e-19, 1.3563e-19, 6.1678e+16,\n",
       "        1.6408e-07, 1.3030e-11, 1.4588e-19, 6.7495e-07, 1.3028e-11, 1.4588e-19,\n",
       "        1.0501e-05, 1.3029e-11, 1.4588e-19, 1.6967e-07, 1.3030e-11, 3.1438e-12,\n",
       "        1.3589e-19, 1.3563e-19, 4.5071e+16, 6.5632e-07, 1.3028e-11, 1.4588e-19,\n",
       "        4.2243e-05, 1.3029e-11, 1.4588e-19, 2.6253e-06, 1.3029e-11, 1.4588e-19,\n",
       "        1.6781e-07, 1.3028e-11, 3.1438e-12, 1.3589e-19, 1.3563e-19, 4.5071e+16,\n",
       "        1.0501e-05, 1.3029e-11, 1.4588e-19, 1.6967e-07, 1.3030e-11, 1.4588e-19,\n",
       "        6.5632e-07, 1.3028e-11, 1.4588e-19, 1.6802e-04])"
      ]
     },
     "metadata": {},
     "execution_count": 10
    }
   ],
   "metadata": {}
  },
  {
   "cell_type": "code",
   "execution_count": 11,
   "source": [
    "x = torch.IntTensor(45, 57, 14, 2)\r\n",
    "x.shape"
   ],
   "outputs": [
    {
     "output_type": "execute_result",
     "data": {
      "text/plain": [
       "torch.Size([45, 57, 14, 2])"
      ]
     },
     "metadata": {},
     "execution_count": 11
    }
   ],
   "metadata": {}
  },
  {
   "cell_type": "code",
   "execution_count": 12,
   "source": [
    "x = torch.IntTensor(3, 2, 4)\r\n",
    "x"
   ],
   "outputs": [
    {
     "output_type": "execute_result",
     "data": {
      "text/plain": [
       "tensor([[[ 574235236,  825372722,  758133037,  810824752],\n",
       "         [ 909130297,  775303482,  876164662,  576337200]],\n",
       "\n",
       "        [[1701061164, 1684956528, 1768124005, 1834972005],\n",
       "         [ 975336549, 1702195828, 1852121644, 1701734759]],\n",
       "\n",
       "        [[ 874658338,  842622565,  761673316, 1717778488],\n",
       "         [ 878916653,  862072119,  841834800,  825386594]]], dtype=torch.int32)"
      ]
     },
     "metadata": {},
     "execution_count": 12
    }
   ],
   "metadata": {}
  },
  {
   "cell_type": "code",
   "execution_count": 14,
   "source": [
    "x1 = torch.FloatTensor(3, 2, 4)\r\n",
    "x1.zero_()\r\n",
    "x2 = torch.zeros(3, 2, 4)\r\n",
    "x3 = torch.zeros_like(x1)\r\n",
    "\r\n",
    "assert torch.allclose(x1, x2) and torch.allclose(x2, x3)\r\n",
    "x1"
   ],
   "outputs": [
    {
     "output_type": "execute_result",
     "data": {
      "text/plain": [
       "tensor([[[0., 0., 0., 0.],\n",
       "         [0., 0., 0., 0.]],\n",
       "\n",
       "        [[0., 0., 0., 0.],\n",
       "         [0., 0., 0., 0.]],\n",
       "\n",
       "        [[0., 0., 0., 0.],\n",
       "         [0., 0., 0., 0.]]])"
      ]
     },
     "metadata": {},
     "execution_count": 14
    }
   ],
   "metadata": {}
  },
  {
   "cell_type": "code",
   "execution_count": null,
   "source": [],
   "outputs": [],
   "metadata": {}
  }
 ],
 "metadata": {
  "orig_nbformat": 4,
  "language_info": {
   "name": "python",
   "version": "3.8.8",
   "mimetype": "text/x-python",
   "codemirror_mode": {
    "name": "ipython",
    "version": 3
   },
   "pygments_lexer": "ipython3",
   "nbconvert_exporter": "python",
   "file_extension": ".py"
  },
  "kernelspec": {
   "name": "python3",
   "display_name": "Python 3.8.8 64-bit ('base': conda)"
  },
  "interpreter": {
   "hash": "b3ba2566441a7c06988d0923437866b63cedc61552a5af99d1f4fb67d367b25f"
  }
 },
 "nbformat": 4,
 "nbformat_minor": 2
}