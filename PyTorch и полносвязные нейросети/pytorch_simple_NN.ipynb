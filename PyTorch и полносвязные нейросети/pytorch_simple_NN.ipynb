{
 "cells": [
  {
   "cell_type": "code",
   "execution_count": 1,
   "source": [
    "import torch"
   ],
   "outputs": [],
   "metadata": {}
  },
  {
   "cell_type": "code",
   "execution_count": 3,
   "source": [
    "from torchvision.datasets import MNIST\r\n",
    "import torchvision.transforms as tfs"
   ],
   "outputs": [],
   "metadata": {}
  },
  {
   "cell_type": "code",
   "execution_count": 4,
   "source": [
    "data_tfs = tfs.Compose([\r\n",
    "    tfs.ToTensor(),\r\n",
    "    tfs.Normalize((0.5), (0.5))\r\n",
    "])"
   ],
   "outputs": [],
   "metadata": {}
  },
  {
   "cell_type": "code",
   "execution_count": 5,
   "source": [
    "# install for train and test\r\n",
    "root = './'\r\n",
    "train = MNIST(root, train=True, transform=data_tfs, download=True)\r\n",
    "test = MNIST(root, train=False, transform=data_tfs, download=True)"
   ],
   "outputs": [
    {
     "output_type": "stream",
     "name": "stdout",
     "text": [
      "Downloading http://yann.lecun.com/exdb/mnist/train-images-idx3-ubyte.gz\n"
     ]
    },
    {
     "output_type": "stream",
     "name": "stderr",
     "text": [
      "  0%|          | 0/9912422 [00:00<?, ?it/s]"
     ]
    },
    {
     "output_type": "stream",
     "name": "stdout",
     "text": [
      "Downloading http://yann.lecun.com/exdb/mnist/train-images-idx3-ubyte.gz to ./MNIST\\raw\\train-images-idx3-ubyte.gz\n"
     ]
    },
    {
     "output_type": "stream",
     "name": "stderr",
     "text": [
      "9913344it [00:01, 4961133.62it/s]                             \n"
     ]
    },
    {
     "output_type": "stream",
     "name": "stdout",
     "text": [
      "Extracting ./MNIST\\raw\\train-images-idx3-ubyte.gz to ./MNIST\\raw\n",
      "\n",
      "Downloading http://yann.lecun.com/exdb/mnist/train-labels-idx1-ubyte.gz\n",
      "Downloading http://yann.lecun.com/exdb/mnist/train-labels-idx1-ubyte.gz to ./MNIST\\raw\\train-labels-idx1-ubyte.gz\n"
     ]
    },
    {
     "output_type": "stream",
     "name": "stderr",
     "text": [
      "29696it [00:00, 30430992.32it/s]         \n"
     ]
    },
    {
     "output_type": "stream",
     "name": "stdout",
     "text": [
      "Extracting ./MNIST\\raw\\train-labels-idx1-ubyte.gz to ./MNIST\\raw\n",
      "\n",
      "Downloading http://yann.lecun.com/exdb/mnist/t10k-images-idx3-ubyte.gz\n"
     ]
    },
    {
     "output_type": "stream",
     "name": "stderr",
     "text": [
      "  0%|          | 0/1648877 [00:00<?, ?it/s]"
     ]
    },
    {
     "output_type": "stream",
     "name": "stdout",
     "text": [
      "Downloading http://yann.lecun.com/exdb/mnist/t10k-images-idx3-ubyte.gz to ./MNIST\\raw\\t10k-images-idx3-ubyte.gz\n"
     ]
    },
    {
     "output_type": "stream",
     "name": "stderr",
     "text": [
      "1649664it [00:00, 2543592.53it/s]                             \n"
     ]
    },
    {
     "output_type": "stream",
     "name": "stdout",
     "text": [
      "Extracting ./MNIST\\raw\\t10k-images-idx3-ubyte.gz to ./MNIST\\raw\n",
      "\n",
      "Downloading http://yann.lecun.com/exdb/mnist/t10k-labels-idx1-ubyte.gz\n",
      "Downloading http://yann.lecun.com/exdb/mnist/t10k-labels-idx1-ubyte.gz to ./MNIST\\raw\\t10k-labels-idx1-ubyte.gz\n"
     ]
    },
    {
     "output_type": "stream",
     "name": "stderr",
     "text": [
      "5120it [00:00, 5116711.10it/s]          "
     ]
    },
    {
     "output_type": "stream",
     "name": "stdout",
     "text": [
      "Extracting ./MNIST\\raw\\t10k-labels-idx1-ubyte.gz to ./MNIST\\raw\n",
      "\n"
     ]
    },
    {
     "output_type": "stream",
     "name": "stderr",
     "text": [
      "\n",
      "C:\\ProgramData\\Anaconda3\\lib\\site-packages\\torchvision\\datasets\\mnist.py:498: UserWarning: The given NumPy array is not writeable, and PyTorch does not support non-writeable tensors. This means you can write to the underlying (supposedly non-writeable) NumPy array using the tensor. You may want to copy the array to protect its data or make it writeable before converting it to a tensor. This type of warning will be suppressed for the rest of this program. (Triggered internally at  ..\\torch\\csrc\\utils\\tensor_numpy.cpp:180.)\n",
      "  return torch.from_numpy(parsed.astype(m[2], copy=False)).view(*s)\n"
     ]
    }
   ],
   "metadata": {}
  },
  {
   "cell_type": "code",
   "execution_count": 6,
   "source": [
    "print(f'Data size:\\n\\t train {len(train)},\\n\\t test {len(test)}')\r\n",
    "print(f'Data shape:\\n\\t features {train[0][0].shape},\\n\\t target {type(test[0][1])}')"
   ],
   "outputs": [
    {
     "output_type": "stream",
     "name": "stdout",
     "text": [
      "Data size:\n",
      "\t train 60000,\n",
      "\t test 10000\n",
      "Data shape:\n",
      "\t features torch.Size([1, 28, 28]),\n",
      "\t target <class 'int'>\n"
     ]
    }
   ],
   "metadata": {}
  },
  {
   "cell_type": "code",
   "execution_count": 7,
   "source": [
    "from torch.utils.data import DataLoader\r\n",
    "\r\n",
    "batch_size = 128\r\n",
    "\r\n",
    "train_loader = DataLoader(train, batch_size=batch_size, drop_last=True)\r\n",
    "test_loader = DataLoader(test, batch_size=batch_size, drop_last=True)"
   ],
   "outputs": [],
   "metadata": {}
  },
  {
   "cell_type": "code",
   "execution_count": 8,
   "source": [
    "x_batch, y_batch = next(iter(train_loader))\r\n",
    "x_batch.shape, y_batch.shape"
   ],
   "outputs": [
    {
     "output_type": "execute_result",
     "data": {
      "text/plain": [
       "(torch.Size([128, 1, 28, 28]), torch.Size([128]))"
      ]
     },
     "metadata": {},
     "execution_count": 8
    }
   ],
   "metadata": {}
  },
  {
   "cell_type": "code",
   "execution_count": 9,
   "source": [
    "features = 784\r\n",
    "classes = 10"
   ],
   "outputs": [],
   "metadata": {}
  },
  {
   "cell_type": "code",
   "execution_count": 10,
   "source": [
    "W = torch.FloatTensor(features, classes).uniform_(-1, 1) / features**0.5\r\n",
    "W.requires_grad_()"
   ],
   "outputs": [
    {
     "output_type": "execute_result",
     "data": {
      "text/plain": [
       "tensor([[-0.0021,  0.0065, -0.0045,  ...,  0.0290,  0.0250, -0.0089],\n",
       "        [-0.0136,  0.0057, -0.0267,  ..., -0.0246,  0.0067,  0.0310],\n",
       "        [ 0.0121,  0.0304,  0.0146,  ...,  0.0348,  0.0132,  0.0147],\n",
       "        ...,\n",
       "        [ 0.0150,  0.0105, -0.0229,  ...,  0.0203, -0.0172,  0.0325],\n",
       "        [-0.0346,  0.0168,  0.0029,  ...,  0.0014,  0.0333, -0.0167],\n",
       "        [-0.0149, -0.0303, -0.0137,  ..., -0.0057,  0.0303, -0.0276]],\n",
       "       requires_grad=True)"
      ]
     },
     "metadata": {},
     "execution_count": 10
    }
   ],
   "metadata": {}
  },
  {
   "cell_type": "code",
   "execution_count": 11,
   "source": [
    "device = torch.device('cuda') if torch.cuda.is_available() else torch.device('cpu')\r\n",
    "device"
   ],
   "outputs": [
    {
     "output_type": "execute_result",
     "data": {
      "text/plain": [
       "device(type='cuda')"
      ]
     },
     "metadata": {},
     "execution_count": 11
    }
   ],
   "metadata": {}
  },
  {
   "cell_type": "code",
   "execution_count": 12,
   "source": [
    "epochs = 3\r\n",
    "lr = 1e-2\r\n",
    "history = []"
   ],
   "outputs": [],
   "metadata": {}
  },
  {
   "cell_type": "code",
   "execution_count": 13,
   "source": [
    "import numpy as np\r\n",
    "from torch.nn.functional import cross_entropy"
   ],
   "outputs": [],
   "metadata": {}
  },
  {
   "cell_type": "code",
   "execution_count": 14,
   "source": [
    "for i in range(epochs):\r\n",
    "    for x_batch, y_batch in train_loader:\r\n",
    "        # load batches of data correctly\r\n",
    "        x_batch = x_batch.reshape(x_batch.shape[0], -1)\r\n",
    "        y_batch = y_batch\r\n",
    "\r\n",
    "        # compute loss (log loss a.k.a. cross entropy)\r\n",
    "        logits = x_batch @ W\r\n",
    "        probabilities = torch.exp(logits) / torch.exp(logits).sum(dim=1, keepdim=True)\r\n",
    "\r\n",
    "        loss = -torch.log(probabilities[range(batch_size), y_batch]).mean()\r\n",
    "        history.append(loss.item())\r\n",
    "\r\n",
    "        # calc gradients\r\n",
    "        loss.backward()\r\n",
    "\r\n",
    "        # step of gradient descent\r\n",
    "        grad = W.grad\r\n",
    "        with torch.no_grad():\r\n",
    "            W -= lr * grad\r\n",
    "        W.grad.zero_()\r\n",
    "\r\n",
    "    print(f'{i+1},\\t loss: {history[-1]}')"
   ],
   "outputs": [
    {
     "output_type": "stream",
     "name": "stdout",
     "text": [
      "1,\t loss: 0.19382932782173157\n",
      "2,\t loss: 0.1398342251777649\n",
      "3,\t loss: 0.12010495364665985\n"
     ]
    }
   ],
   "metadata": {}
  },
  {
   "cell_type": "code",
   "execution_count": 15,
   "source": [
    "import matplotlib.pyplot as plt"
   ],
   "outputs": [],
   "metadata": {}
  },
  {
   "cell_type": "code",
   "execution_count": 16,
   "source": [
    "plt.figure(figsize=(10, 7))\r\n",
    "\r\n",
    "plt.plot(history)\r\n",
    "\r\n",
    "plt.title('Loss by batch iterations')\r\n",
    "plt.ylabel('Entropy Loss')\r\n",
    "plt.xlabel('batches')\r\n",
    "\r\n",
    "plt.show()"
   ],
   "outputs": [
    {
     "output_type": "display_data",
     "data": {
      "image/png": "[encoded data removed]",
      "text/plain": [
       "<Figure size 720x504 with 1 Axes>"
      ]
     },
     "metadata": {
      "needs_background": "light"
     }
    }
   ],
   "metadata": {}
  },
  {
   "cell_type": "code",
   "execution_count": 17,
   "source": [
    "from sklearn.metrics import accuracy_score"
   ],
   "outputs": [],
   "metadata": {}
  },
  {
   "cell_type": "code",
   "execution_count": 19,
   "source": [
    "acc = 0\r\n",
    "batches = 0\r\n",
    "\r\n",
    "for x_batch, y_batch in test_loader:\r\n",
    "    # load batches of data correctly\r\n",
    "    batches += 1\r\n",
    "    x_batch = x_batch.view(x_batch.shape[0], -1)\r\n",
    "    y_batch = y_batch\r\n",
    "\r\n",
    "    preds = torch.argmax(x_batch @ W, dim=1)\r\n",
    "    acc += (preds==y_batch).cpu().numpy().mean()\r\n",
    "\r\n",
    "print(f'Test accuracy {acc / batches:.3}')"
   ],
   "outputs": [
    {
     "output_type": "stream",
     "name": "stdout",
     "text": [
      "Test accuracy 0.901\n"
     ]
    }
   ],
   "metadata": {}
  },
  {
   "cell_type": "code",
   "execution_count": null,
   "source": [],
   "outputs": [],
   "metadata": {}
  }
 ],
 "metadata": {
  "orig_nbformat": 4,
  "language_info": {
   "name": "python",
   "version": "3.8.8",
   "mimetype": "text/x-python",
   "codemirror_mode": {
    "name": "ipython",
    "version": 3
   },
   "pygments_lexer": "ipython3",
   "nbconvert_exporter": "python",
   "file_extension": ".py"
  },
  "kernelspec": {
   "name": "python3",
   "display_name": "Python 3.8.8 64-bit ('base': conda)"
  },
  "interpreter": {
   "hash": "b3ba2566441a7c06988d0923437866b63cedc61552a5af99d1f4fb67d367b25f"
  }
 },
 "nbformat": 4,
 "nbformat_minor": 2
}